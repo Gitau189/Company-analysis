{
 "cells": [
  {
   "cell_type": "markdown",
   "metadata": {},
   "source": [
    "## I want to carry out some analysis on company data. I aim to show their health by showing how they are perfoming 🚀📈"
   ]
  },
  {
   "cell_type": "code",
   "execution_count": 1,
   "metadata": {},
   "outputs": [],
   "source": [
    "import pandas as pd\n",
    "import matplotlib.pyplot as plt\n",
    "import warnings\n",
    "import pandas as pd\n",
    "from datetime import datetime\n",
    "from datetime import datetime\n",
    "warnings.filterwarnings(\"ignore\")\n"
   ]
  },
  {
   "cell_type": "markdown",
   "metadata": {},
   "source": [
    "# Reading the data 👁️‍🗨️"
   ]
  },
  {
   "cell_type": "code",
   "execution_count": 2,
   "metadata": {},
   "outputs": [
    {
     "data": {
      "text/html": [
       "<div>\n",
       "<style scoped>\n",
       "    .dataframe tbody tr th:only-of-type {\n",
       "        vertical-align: middle;\n",
       "    }\n",
       "\n",
       "    .dataframe tbody tr th {\n",
       "        vertical-align: top;\n",
       "    }\n",
       "\n",
       "    .dataframe thead th {\n",
       "        text-align: right;\n",
       "    }\n",
       "</style>\n",
       "<table border=\"1\" class=\"dataframe\">\n",
       "  <thead>\n",
       "    <tr style=\"text-align: right;\">\n",
       "      <th></th>\n",
       "      <th>id</th>\n",
       "      <th>created_at</th>\n",
       "      <th>updated_at</th>\n",
       "      <th>TransactionType</th>\n",
       "      <th>responsecode</th>\n",
       "      <th>merchantrequestid</th>\n",
       "      <th>checkoutrequestid</th>\n",
       "      <th>TransID</th>\n",
       "      <th>TransTime</th>\n",
       "      <th>datetime</th>\n",
       "      <th>...</th>\n",
       "      <th>BusinessShortCode</th>\n",
       "      <th>BillRefNumber</th>\n",
       "      <th>UserRequestNumber</th>\n",
       "      <th>OrgAccountBalance</th>\n",
       "      <th>ThirdPartyTransID</th>\n",
       "      <th>MSISDN</th>\n",
       "      <th>KYCInfo</th>\n",
       "      <th>description</th>\n",
       "      <th>merchant_transaction_id</th>\n",
       "      <th>active</th>\n",
       "    </tr>\n",
       "  </thead>\n",
       "  <tbody>\n",
       "    <tr>\n",
       "      <th>0</th>\n",
       "      <td>1</td>\n",
       "      <td>2021-02-11 21:51:56</td>\n",
       "      <td>2021-02-11 18:51:56</td>\n",
       "      <td>NaN</td>\n",
       "      <td>NaN</td>\n",
       "      <td>NaN</td>\n",
       "      <td>NaN</td>\n",
       "      <td>NaN</td>\n",
       "      <td>NaN</td>\n",
       "      <td>NaN</td>\n",
       "      <td>...</td>\n",
       "      <td>NaN</td>\n",
       "      <td>d7z3iTAO</td>\n",
       "      <td>2.547212e+11</td>\n",
       "      <td>NaN</td>\n",
       "      <td>NaN</td>\n",
       "      <td>NaN</td>\n",
       "      <td>NaN</td>\n",
       "      <td>Success. Request accepted for processing</td>\n",
       "      <td>3090-1354737-1</td>\n",
       "      <td>0</td>\n",
       "    </tr>\n",
       "    <tr>\n",
       "      <th>1</th>\n",
       "      <td>2</td>\n",
       "      <td>2021-02-11 21:53:55</td>\n",
       "      <td>2021-02-11 18:53:55</td>\n",
       "      <td>NaN</td>\n",
       "      <td>NaN</td>\n",
       "      <td>NaN</td>\n",
       "      <td>NaN</td>\n",
       "      <td>NaN</td>\n",
       "      <td>NaN</td>\n",
       "      <td>NaN</td>\n",
       "      <td>...</td>\n",
       "      <td>NaN</td>\n",
       "      <td>Tn5qtUK5</td>\n",
       "      <td>2.547212e+11</td>\n",
       "      <td>NaN</td>\n",
       "      <td>NaN</td>\n",
       "      <td>NaN</td>\n",
       "      <td>NaN</td>\n",
       "      <td>Success. Request accepted for processing</td>\n",
       "      <td>1459-1351422-1</td>\n",
       "      <td>0</td>\n",
       "    </tr>\n",
       "    <tr>\n",
       "      <th>2</th>\n",
       "      <td>3</td>\n",
       "      <td>2021-02-11 21:55:38</td>\n",
       "      <td>2021-02-11 18:55:38</td>\n",
       "      <td>NaN</td>\n",
       "      <td>NaN</td>\n",
       "      <td>NaN</td>\n",
       "      <td>NaN</td>\n",
       "      <td>NaN</td>\n",
       "      <td>NaN</td>\n",
       "      <td>NaN</td>\n",
       "      <td>...</td>\n",
       "      <td>NaN</td>\n",
       "      <td>IKHSW38K</td>\n",
       "      <td>2.547212e+11</td>\n",
       "      <td>NaN</td>\n",
       "      <td>NaN</td>\n",
       "      <td>NaN</td>\n",
       "      <td>NaN</td>\n",
       "      <td>Success. Request accepted for processing</td>\n",
       "      <td>12754-24334136-1</td>\n",
       "      <td>0</td>\n",
       "    </tr>\n",
       "  </tbody>\n",
       "</table>\n",
       "<p>3 rows × 21 columns</p>\n",
       "</div>"
      ],
      "text/plain": [
       "   id           created_at           updated_at  TransactionType  \\\n",
       "0   1  2021-02-11 21:51:56  2021-02-11 18:51:56              NaN   \n",
       "1   2  2021-02-11 21:53:55  2021-02-11 18:53:55              NaN   \n",
       "2   3  2021-02-11 21:55:38  2021-02-11 18:55:38              NaN   \n",
       "\n",
       "   responsecode  merchantrequestid  checkoutrequestid TransID TransTime  \\\n",
       "0           NaN                NaN                NaN     NaN       NaN   \n",
       "1           NaN                NaN                NaN     NaN       NaN   \n",
       "2           NaN                NaN                NaN     NaN       NaN   \n",
       "\n",
       "  datetime  ...  BusinessShortCode  BillRefNumber UserRequestNumber  \\\n",
       "0      NaN  ...                NaN       d7z3iTAO      2.547212e+11   \n",
       "1      NaN  ...                NaN       Tn5qtUK5      2.547212e+11   \n",
       "2      NaN  ...                NaN       IKHSW38K      2.547212e+11   \n",
       "\n",
       "   OrgAccountBalance  ThirdPartyTransID  MSISDN KYCInfo  \\\n",
       "0                NaN                NaN     NaN     NaN   \n",
       "1                NaN                NaN     NaN     NaN   \n",
       "2                NaN                NaN     NaN     NaN   \n",
       "\n",
       "                                description merchant_transaction_id active  \n",
       "0  Success. Request accepted for processing          3090-1354737-1      0  \n",
       "1  Success. Request accepted for processing          1459-1351422-1      0  \n",
       "2  Success. Request accepted for processing        12754-24334136-1      0  \n",
       "\n",
       "[3 rows x 21 columns]"
      ]
     },
     "execution_count": 2,
     "metadata": {},
     "output_type": "execute_result"
    }
   ],
   "source": [
    "data=pd.read_csv('mpesadata.csv')\n",
    "data.head(3)"
   ]
  },
  {
   "cell_type": "markdown",
   "metadata": {},
   "source": [
    "## Creating a subset of the data to get only the name column and transaction column 😎"
   ]
  },
  {
   "cell_type": "code",
   "execution_count": 3,
   "metadata": {},
   "outputs": [],
   "source": [
    "def subset_dataframe(df, col1, col2):\n",
    "    \"\"\"\n",
    "    Subsets the input DataFrame to include only the specified two columns.\n",
    "\n",
    "    Parameters:\n",
    "    df : The input DataFrame.\n",
    "    col1 : The name of the first column to include.\n",
    "    col2 : The name of the second column to include.\n",
    "\n",
    "    Returns:\n",
    "    pd.DataFrame: A new DataFrame with only the specified two columns.\n",
    "    \"\"\"\n",
    "    if col1 in df.columns and col2 in df.columns:\n",
    "        return df[[col1, col2]]\n",
    "    else:\n",
    "        raise ValueError(\"One or both columns not found in the DataFrame\")\n",
    "\n",
    "dateTrans=subset_dataframe(data,'created_at','TransAmount')\n",
    "\n"
   ]
  },
  {
   "cell_type": "markdown",
   "metadata": {},
   "source": [
    "## Data exploration 🕵️"
   ]
  },
  {
   "cell_type": "markdown",
   "metadata": {},
   "source": [
    "# I want to check the highest amount of money someone has ever spent using the service 💸. \n",
    "\n",
    "This is important in Identifying High-Value Customers.\n",
    "\n",
    "**Focus on Retention** : High-value customers contribute significantly to  revenue. Identifying them allows you to focus on retention strategies, such as personalized offers and loyalty programs.\n",
    "\n",
    "**Tailored Marketing**: You can create targeted marketing campaigns to cater to the preferences and needs of these customers, increasing their lifetime value."
   ]
  },
  {
   "cell_type": "code",
   "execution_count": 4,
   "metadata": {},
   "outputs": [
    {
     "data": {
      "text/plain": [
       "13500"
      ]
     },
     "execution_count": 4,
     "metadata": {},
     "output_type": "execute_result"
    }
   ],
   "source": [
    "def maxtransaction(df,col1):\n",
    "    \"\"\"\n",
    "    This function takes a dataframe and looks into one column.It therefore returns the maximum amount of money spent at a time.\n",
    "\n",
    "    parameters:\n",
    "    df: The input dataframe\n",
    "    col1(str):The column to analyze\n",
    "\n",
    "\n",
    "    \"\"\"\n",
    "    if col1 in df.columns:\n",
    "        return df[col1].max()\n",
    "    else:\n",
    "        raise ValueError(\"That column does not exist in the dataframe\")\n",
    "    \n",
    "maxtrans=maxtransaction(dateTrans,'TransAmount')\n",
    "maxtrans"
   ]
  },
  {
   "cell_type": "markdown",
   "metadata": {},
   "source": [
    "# Most loyal customers 🫅"
   ]
  },
  {
   "cell_type": "markdown",
   "metadata": {},
   "source": [
    "## Importance of identifying most loyal customers.\n",
    "**Increased Revenue**\n",
    "**Repeat Purchases**: Loyal customers are more likely to make repeat purchases, providing a steady stream of revenue.\n",
    "Higher Spending: They often spend more per transaction compared to new customers.\n",
    "\n",
    "2.**Cost Efficiency**\n",
    "**Lower Acquisition Costs**: Retaining existing customers is generally less expensive than acquiring new ones. Marketing and sales efforts can be more focused and cost-effective.\n",
    "\n",
    "**Reduced Churn**: Understanding and catering to loyal customers can help reduce churn rates, ensuring a stable customer base.\n",
    "\n",
    "3. **Word-of-Mouth Marketing**\n",
    "\n",
    "**Referrals**: Loyal customers are more likely to refer friends and family, acting as brand ambassadors and bringing in new customers through positive word-of-mouth.\n",
    "\n",
    "**Positive Reviews**: They are more inclined to leave positive reviews and testimonials, enhancing your brand’s reputation."
   ]
  },
  {
   "cell_type": "code",
   "execution_count": 5,
   "metadata": {},
   "outputs": [
    {
     "data": {
      "text/plain": [
       "['Benrogers Kitavi Kyalo',\n",
       " 'rajab mohammed ali',\n",
       " 'masuud',\n",
       " 'LYDIA',\n",
       " 'SYLVIA MORAA NTABO']"
      ]
     },
     "execution_count": 5,
     "metadata": {},
     "output_type": "execute_result"
    }
   ],
   "source": [
    "def toployalcustomers(df, name_col, condition_col, top_n=5):\n",
    "    \"\"\"\n",
    "    This function finds the top N loyal customers based on the most repeated names in the specified column,\n",
    "    but only counts occurrences where the value in the condition column is zero.\n",
    "\n",
    "    Parameters:\n",
    "    df (pd.DataFrame): The input DataFrame.\n",
    "    name_col (str): The column containing customer names.\n",
    "    condition_col (str): The column to check for the condition (value should be zero).\n",
    "    top_n (int): The number of top customers to return.\n",
    "\n",
    "    Returns:\n",
    "    list: A list of the top N loyal customers.\n",
    "    \"\"\"\n",
    "    if name_col in df.columns and condition_col in df.columns:\n",
    "        \n",
    "        filtered_df = df[df[condition_col] == 1]\n",
    "        \n",
    "        if not filtered_df.empty:\n",
    "            \n",
    "            top_customers = filtered_df[name_col].value_counts().nlargest(top_n).index.tolist()\n",
    "            return top_customers\n",
    "        else:\n",
    "            return \"No customers meet the condition.\"\n",
    "    else:\n",
    "        raise ValueError(\"One or both columns do not exist in the DataFrame\")\n",
    "\n",
    "\n",
    "\n",
    "\n",
    "\n",
    "loyalcustomer=toployalcustomers(data,'KYCInfo','active')\n",
    "loyalcustomer\n"
   ]
  },
  {
   "cell_type": "markdown",
   "metadata": {},
   "source": [
    "I want to change that date format.But first to subset the data to transTime column,KYCInfo"
   ]
  },
  {
   "cell_type": "markdown",
   "metadata": {},
   "source": [
    "# Churn analysis 🏃\n",
    "\n",
    "## I want to find out the users who have stayed for a long time without using the service.\n",
    "\n",
    "### I decided to carry out the following analysis for the following reasons:\n",
    "\n",
    "**User Engagement**: It helps in understanding user engagement levels. If a user hasn’t used the service for a long time, they might be disengaged, which could be a sign that they are not finding the service useful or satisfying.\n",
    "    \n",
    "**Customer Retention**: As i said before, it is more cost-effective to retain existing customers than to acquire new ones. By identifying users who haven’t been active recently, the company/business can target them with specific campaigns or offers to encourage them to return.\n",
    "\n",
    "**Personalized Communication**: Knowing when a user last interacted with the service can help in personalizing communication and offers. For example, if a user hasn’t been active for a while, the company/business might send them a “We miss you” email with a special offer."
   ]
  },
  {
   "cell_type": "code",
   "execution_count": 6,
   "metadata": {},
   "outputs": [
    {
     "data": {
      "text/plain": [
       "True"
      ]
     },
     "execution_count": 6,
     "metadata": {},
     "output_type": "execute_result"
    }
   ],
   "source": [
    "#This cell manipulates the dataframe and sets the dataframe to my desired format so i can use it.\n",
    "customertime=subset_dataframe(data,'KYCInfo','TransTime')\n",
    "\n",
    "#I want to remove the empty rows of the transTime column since it means the transaction did not go through\n",
    "customertime.dropna(subset=['TransTime'], inplace=True)\n",
    "customertime\n",
    "#getting the date column to datetime and getting the dataframe to  the format that i want\n",
    "customertime['datetime'] = pd.to_datetime(customertime['TransTime'])\n",
    "customertime['datetime'] = customertime['datetime'].dt.date\n",
    "customertime['datetime'] = pd.to_datetime(customertime['datetime'])\n",
    "\n",
    "customertime.drop('TransTime',axis=1,inplace=True)\n",
    "customertime\n",
    "\n",
    "from pandas.api.types import is_datetime64_any_dtype as is_datetime\n",
    "is_datetime(customertime['datetime'])\n"
   ]
  },
  {
   "cell_type": "code",
   "execution_count": 9,
   "metadata": {},
   "outputs": [
    {
     "name": "stdout",
     "output_type": "stream",
     "text": [
      "                      KYCInfo              days_dormant\n",
      "0         sammy mwenga wambua 1254 days 19:53:00.290658\n",
      "1             Anjeline andati 1254 days 19:53:00.290658\n",
      "2       ABDALLAH YUSUF WAMBUA 1244 days 19:53:00.290658\n",
      "3    SHAMMAH KARIUKI NG'ANG'A 1240 days 19:53:00.290658\n",
      "4         PURITY MUTHEU KYALO 1237 days 19:53:00.290658\n",
      "..                        ...                       ...\n",
      "995                   EMANUEL   30 days 19:53:00.290658\n",
      "996                     ISAYA   30 days 19:53:00.290658\n",
      "997                    SHEILA   30 days 19:53:00.290658\n",
      "998                 CELESTINE   29 days 19:53:00.290658\n",
      "999                      LUCY   29 days 19:53:00.290658\n",
      "\n",
      "[1000 rows x 2 columns]\n"
     ]
    }
   ],
   "source": [
    "\n",
    "def get_top_dormant_users(df, user_id_col, date_col):\n",
    "  \"\"\"\n",
    "  This function finds the top 10 users with the most days since their last appearance \n",
    "  in the dataframe, considering the latest appearance of each user.\n",
    "\n",
    "  Args:\n",
    "      df: The  dataframe containing user data.\n",
    "      user_id_col: The name of the column containing the user ID(KYCInfo).\n",
    "      date_col: The name of the column containing the date of user appearance(datetime).\n",
    "\n",
    "  Returns:\n",
    "      A pandas dataframe containing the top 10 users with their user ID and days since last appearance.\n",
    "  \"\"\"\n",
    "\n",
    "  #Gets the current date.\n",
    "  today = pd.Timestamp('today')\n",
    "\n",
    "  # Sort by date in descending order,this will come in handy later.\n",
    "  df = df.sort_values(by=date_col, ascending=False)\n",
    "\n",
    "  # Remove duplicates,since it is the same user, after we arrange in descending order,it wont matter as the current date has already been recorded.\n",
    "  df = df.drop_duplicates(subset=user_id_col, keep='first')\n",
    "\n",
    "  # Calculate days since last appearance.\n",
    "  df['days_dormant'] = today - df[date_col]\n",
    "\n",
    "  # Group by name and get maximum days dormant\n",
    "  user_dortmancy = df.groupby(user_id_col)['days_dormant'].max()\n",
    "\n",
    "  # Sort, here you can also specify the number of people you want to see.\n",
    "  top_dormant_users = user_dortmancy.sort_values(ascending=False).head(1000)\n",
    "\n",
    "  # Reset index,failure to do this the 'KYCInfo' column will be the index meaning it won't be considered a column.\n",
    "  top_dormant_users = top_dormant_users.reset_index()\n",
    "\n",
    "  # I choose to rename that column for easy understanding\n",
    "  top_dormant_users.columns = [user_id_col, 'days_dormant']\n",
    "\n",
    "  return top_dormant_users\n",
    "\n",
    "\n",
    "top_dormant = get_top_dormant_users(customertime, 'KYCInfo', 'datetime')\n",
    "print(top_dormant)\n",
    "\n",
    "\n",
    "\n"
   ]
  },
  {
   "cell_type": "code",
   "execution_count": null,
   "metadata": {},
   "outputs": [],
   "source": [
    "%%capture\n",
    "dateTrans.rename(columns={'created_at':'date'},inplace=True)"
   ]
  },
  {
   "cell_type": "markdown",
   "metadata": {},
   "source": [
    "I want to visualize the trend of revenue from when they started operation to now"
   ]
  }
 ],
 "metadata": {
  "kernelspec": {
   "display_name": "Python 3",
   "language": "python",
   "name": "python3"
  },
  "language_info": {
   "codemirror_mode": {
    "name": "ipython",
    "version": 3
   },
   "file_extension": ".py",
   "mimetype": "text/x-python",
   "name": "python",
   "nbconvert_exporter": "python",
   "pygments_lexer": "ipython3",
   "version": "3.12.2"
  }
 },
 "nbformat": 4,
 "nbformat_minor": 2
}
