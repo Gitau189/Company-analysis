{
 "cells": [
  {
   "cell_type": "markdown",
   "metadata": {},
   "source": [
    "## I want to carry out some analysis on company data. I aim to show their health by showing how they are perfoming 🚀📈"
   ]
  },
  {
   "cell_type": "code",
   "execution_count": 2,
   "metadata": {},
   "outputs": [],
   "source": [
    "import pandas as pd\n",
    "import matplotlib.pyplot as plt\n"
   ]
  },
  {
   "cell_type": "code",
   "execution_count": 17,
   "metadata": {},
   "outputs": [
    {
     "data": {
      "text/plain": [
       "dtype('O')"
      ]
     },
     "execution_count": 17,
     "metadata": {},
     "output_type": "execute_result"
    }
   ],
   "source": [
    "data['TransTime'].dtype"
   ]
  },
  {
   "cell_type": "markdown",
   "metadata": {},
   "source": [
    "# Reading the data 👁️‍🗨️"
   ]
  },
  {
   "cell_type": "code",
   "execution_count": 3,
   "metadata": {},
   "outputs": [
    {
     "data": {
      "text/html": [
       "<div>\n",
       "<style scoped>\n",
       "    .dataframe tbody tr th:only-of-type {\n",
       "        vertical-align: middle;\n",
       "    }\n",
       "\n",
       "    .dataframe tbody tr th {\n",
       "        vertical-align: top;\n",
       "    }\n",
       "\n",
       "    .dataframe thead th {\n",
       "        text-align: right;\n",
       "    }\n",
       "</style>\n",
       "<table border=\"1\" class=\"dataframe\">\n",
       "  <thead>\n",
       "    <tr style=\"text-align: right;\">\n",
       "      <th></th>\n",
       "      <th>id</th>\n",
       "      <th>created_at</th>\n",
       "      <th>updated_at</th>\n",
       "      <th>TransactionType</th>\n",
       "      <th>responsecode</th>\n",
       "      <th>merchantrequestid</th>\n",
       "      <th>checkoutrequestid</th>\n",
       "      <th>TransID</th>\n",
       "      <th>TransTime</th>\n",
       "      <th>datetime</th>\n",
       "      <th>...</th>\n",
       "      <th>BusinessShortCode</th>\n",
       "      <th>BillRefNumber</th>\n",
       "      <th>UserRequestNumber</th>\n",
       "      <th>OrgAccountBalance</th>\n",
       "      <th>ThirdPartyTransID</th>\n",
       "      <th>MSISDN</th>\n",
       "      <th>KYCInfo</th>\n",
       "      <th>description</th>\n",
       "      <th>merchant_transaction_id</th>\n",
       "      <th>active</th>\n",
       "    </tr>\n",
       "  </thead>\n",
       "  <tbody>\n",
       "    <tr>\n",
       "      <th>0</th>\n",
       "      <td>1</td>\n",
       "      <td>2021-02-11 21:51:56</td>\n",
       "      <td>2021-02-11 18:51:56</td>\n",
       "      <td>NaN</td>\n",
       "      <td>NaN</td>\n",
       "      <td>NaN</td>\n",
       "      <td>NaN</td>\n",
       "      <td>NaN</td>\n",
       "      <td>NaN</td>\n",
       "      <td>NaN</td>\n",
       "      <td>...</td>\n",
       "      <td>NaN</td>\n",
       "      <td>d7z3iTAO</td>\n",
       "      <td>2.547212e+11</td>\n",
       "      <td>NaN</td>\n",
       "      <td>NaN</td>\n",
       "      <td>NaN</td>\n",
       "      <td>NaN</td>\n",
       "      <td>Success. Request accepted for processing</td>\n",
       "      <td>3090-1354737-1</td>\n",
       "      <td>0</td>\n",
       "    </tr>\n",
       "    <tr>\n",
       "      <th>1</th>\n",
       "      <td>2</td>\n",
       "      <td>2021-02-11 21:53:55</td>\n",
       "      <td>2021-02-11 18:53:55</td>\n",
       "      <td>NaN</td>\n",
       "      <td>NaN</td>\n",
       "      <td>NaN</td>\n",
       "      <td>NaN</td>\n",
       "      <td>NaN</td>\n",
       "      <td>NaN</td>\n",
       "      <td>NaN</td>\n",
       "      <td>...</td>\n",
       "      <td>NaN</td>\n",
       "      <td>Tn5qtUK5</td>\n",
       "      <td>2.547212e+11</td>\n",
       "      <td>NaN</td>\n",
       "      <td>NaN</td>\n",
       "      <td>NaN</td>\n",
       "      <td>NaN</td>\n",
       "      <td>Success. Request accepted for processing</td>\n",
       "      <td>1459-1351422-1</td>\n",
       "      <td>0</td>\n",
       "    </tr>\n",
       "    <tr>\n",
       "      <th>2</th>\n",
       "      <td>3</td>\n",
       "      <td>2021-02-11 21:55:38</td>\n",
       "      <td>2021-02-11 18:55:38</td>\n",
       "      <td>NaN</td>\n",
       "      <td>NaN</td>\n",
       "      <td>NaN</td>\n",
       "      <td>NaN</td>\n",
       "      <td>NaN</td>\n",
       "      <td>NaN</td>\n",
       "      <td>NaN</td>\n",
       "      <td>...</td>\n",
       "      <td>NaN</td>\n",
       "      <td>IKHSW38K</td>\n",
       "      <td>2.547212e+11</td>\n",
       "      <td>NaN</td>\n",
       "      <td>NaN</td>\n",
       "      <td>NaN</td>\n",
       "      <td>NaN</td>\n",
       "      <td>Success. Request accepted for processing</td>\n",
       "      <td>12754-24334136-1</td>\n",
       "      <td>0</td>\n",
       "    </tr>\n",
       "  </tbody>\n",
       "</table>\n",
       "<p>3 rows × 21 columns</p>\n",
       "</div>"
      ],
      "text/plain": [
       "   id           created_at           updated_at  TransactionType  \\\n",
       "0   1  2021-02-11 21:51:56  2021-02-11 18:51:56              NaN   \n",
       "1   2  2021-02-11 21:53:55  2021-02-11 18:53:55              NaN   \n",
       "2   3  2021-02-11 21:55:38  2021-02-11 18:55:38              NaN   \n",
       "\n",
       "   responsecode  merchantrequestid  checkoutrequestid TransID TransTime  \\\n",
       "0           NaN                NaN                NaN     NaN       NaN   \n",
       "1           NaN                NaN                NaN     NaN       NaN   \n",
       "2           NaN                NaN                NaN     NaN       NaN   \n",
       "\n",
       "  datetime  ...  BusinessShortCode  BillRefNumber UserRequestNumber  \\\n",
       "0      NaN  ...                NaN       d7z3iTAO      2.547212e+11   \n",
       "1      NaN  ...                NaN       Tn5qtUK5      2.547212e+11   \n",
       "2      NaN  ...                NaN       IKHSW38K      2.547212e+11   \n",
       "\n",
       "   OrgAccountBalance  ThirdPartyTransID  MSISDN KYCInfo  \\\n",
       "0                NaN                NaN     NaN     NaN   \n",
       "1                NaN                NaN     NaN     NaN   \n",
       "2                NaN                NaN     NaN     NaN   \n",
       "\n",
       "                                description merchant_transaction_id active  \n",
       "0  Success. Request accepted for processing          3090-1354737-1      0  \n",
       "1  Success. Request accepted for processing          1459-1351422-1      0  \n",
       "2  Success. Request accepted for processing        12754-24334136-1      0  \n",
       "\n",
       "[3 rows x 21 columns]"
      ]
     },
     "execution_count": 3,
     "metadata": {},
     "output_type": "execute_result"
    }
   ],
   "source": [
    "data=pd.read_csv('mpesadata.csv')\n",
    "data.head(3)"
   ]
  },
  {
   "cell_type": "markdown",
   "metadata": {},
   "source": [
    "## Creating a subset of the data to get only the name column and transaction column 😎"
   ]
  },
  {
   "cell_type": "code",
   "execution_count": 4,
   "metadata": {},
   "outputs": [],
   "source": [
    "\n",
    "\n",
    "def subset_dataframe(df, col1, col2):\n",
    "    \"\"\"\n",
    "    Subsets the input DataFrame to include only the specified two columns.\n",
    "\n",
    "    Parameters:\n",
    "    df : The input DataFrame.\n",
    "    col1 : The name of the first column to include.\n",
    "    col2 : The name of the second column to include.\n",
    "\n",
    "    Returns:\n",
    "    pd.DataFrame: A new DataFrame with only the specified two columns.\n",
    "    \"\"\"\n",
    "    if col1 in df.columns and col2 in df.columns:\n",
    "        return df[[col1, col2]]\n",
    "    else:\n",
    "        raise ValueError(\"One or both columns not found in the DataFrame\")\n",
    "\n",
    "dateTrans=subset_dataframe(data,'created_at','TransAmount')\n",
    "\n"
   ]
  },
  {
   "cell_type": "markdown",
   "metadata": {},
   "source": [
    "## Data exploration 🕵️"
   ]
  },
  {
   "cell_type": "markdown",
   "metadata": {},
   "source": [
    "# I want to check the highest amount of money someone has ever spent using the service 💸. \n",
    "\n",
    "This is important in Identifying High-Value Customers.\n",
    "\n",
    "**Focus on Retention** : High-value customers contribute significantly to  revenue. Identifying them allows you to focus on retention strategies, such as personalized offers and loyalty programs.\n",
    "\n",
    "**Tailored Marketing**: You can create targeted marketing campaigns to cater to the preferences and needs of these customers, increasing their lifetime value."
   ]
  },
  {
   "cell_type": "code",
   "execution_count": 5,
   "metadata": {},
   "outputs": [
    {
     "data": {
      "text/plain": [
       "13500"
      ]
     },
     "execution_count": 5,
     "metadata": {},
     "output_type": "execute_result"
    }
   ],
   "source": [
    "def maxtransaction(df,col1):\n",
    "    \"\"\"\n",
    "    This function takes a dataframe and looks into one column.It therefore returns the maximum amount of money spent at a time.\n",
    "\n",
    "    parameters:\n",
    "    df: The input dataframe\n",
    "    col1(str):The column to analyze\n",
    "\n",
    "\n",
    "    \"\"\"\n",
    "    if col1 in df.columns:\n",
    "        return df[col1].max()\n",
    "    else:\n",
    "        raise ValueError(\"That column does not exist in the dataframe\")\n",
    "    \n",
    "maxtrans=maxtransaction(dateTrans,'TransAmount')\n",
    "maxtrans"
   ]
  },
  {
   "cell_type": "markdown",
   "metadata": {},
   "source": [
    "# Most loyal customers 🫅"
   ]
  },
  {
   "cell_type": "markdown",
   "metadata": {},
   "source": [
    "## Importance of identifying most loyal customers.\n",
    "**Increased Revenue**\n",
    "**Repeat Purchases**: Loyal customers are more likely to make repeat purchases, providing a steady stream of revenue.\n",
    "Higher Spending: They often spend more per transaction compared to new customers.\n",
    "\n",
    "2.**Cost Efficiency**\n",
    "**Lower Acquisition Costs**: Retaining existing customers is generally less expensive than acquiring new ones. Marketing and sales efforts can be more focused and cost-effective.\n",
    "\n",
    "**Reduced Churn**: Understanding and catering to loyal customers can help reduce churn rates, ensuring a stable customer base.\n",
    "\n",
    "3. **Word-of-Mouth Marketing**\n",
    "\n",
    "**Referrals**: Loyal customers are more likely to refer friends and family, acting as brand ambassadors and bringing in new customers through positive word-of-mouth.\n",
    "\n",
    "**Positive Reviews**: They are more inclined to leave positive reviews and testimonials, enhancing your brand’s reputation."
   ]
  },
  {
   "cell_type": "code",
   "execution_count": 6,
   "metadata": {},
   "outputs": [
    {
     "data": {
      "text/plain": [
       "['Benrogers Kitavi Kyalo',\n",
       " 'rajab mohammed ali',\n",
       " 'masuud',\n",
       " 'LYDIA',\n",
       " 'SYLVIA MORAA NTABO']"
      ]
     },
     "execution_count": 6,
     "metadata": {},
     "output_type": "execute_result"
    }
   ],
   "source": [
    "\n",
    "\n",
    "def toployalcustomers(df, name_col, condition_col, top_n=5):\n",
    "    \"\"\"\n",
    "    This function finds the top N loyal customers based on the most repeated names in the specified column,\n",
    "    but only counts occurrences where the value in the condition column is zero.\n",
    "\n",
    "    Parameters:\n",
    "    df (pd.DataFrame): The input DataFrame.\n",
    "    name_col (str): The column containing customer names.\n",
    "    condition_col (str): The column to check for the condition (value should be zero).\n",
    "    top_n (int): The number of top customers to return.\n",
    "\n",
    "    Returns:\n",
    "    list: A list of the top N loyal customers.\n",
    "    \"\"\"\n",
    "    if name_col in df.columns and condition_col in df.columns:\n",
    "        \n",
    "        filtered_df = df[df[condition_col] == 1]\n",
    "        \n",
    "        if not filtered_df.empty:\n",
    "            \n",
    "            top_customers = filtered_df[name_col].value_counts().nlargest(top_n).index.tolist()\n",
    "            return top_customers\n",
    "        else:\n",
    "            return \"No customers meet the condition.\"\n",
    "    else:\n",
    "        raise ValueError(\"One or both columns do not exist in the DataFrame\")\n",
    "\n",
    "\n",
    "\n",
    "\n",
    "\n",
    "loyalcustomer=toployalcustomers(data,'KYCInfo','active')\n",
    "loyalcustomer\n"
   ]
  },
  {
   "cell_type": "markdown",
   "metadata": {},
   "source": [
    "# Churn analysis 🏃"
   ]
  },
  {
   "cell_type": "code",
   "execution_count": 15,
   "metadata": {},
   "outputs": [
    {
     "ename": "AttributeError",
     "evalue": "Can only use .dt accessor with datetimelike values",
     "output_type": "error",
     "traceback": [
      "\u001b[1;31m---------------------------------------------------------------------------\u001b[0m",
      "\u001b[1;31mAttributeError\u001b[0m                            Traceback (most recent call last)",
      "Cell \u001b[1;32mIn[15], line 30\u001b[0m\n\u001b[0;32m     25\u001b[0m     top_10 \u001b[38;5;241m=\u001b[39m df\u001b[38;5;241m.\u001b[39msort_values(by\u001b[38;5;241m=\u001b[39m\u001b[38;5;124m'\u001b[39m\u001b[38;5;124mDaysSinceLastPurchase\u001b[39m\u001b[38;5;124m'\u001b[39m)\u001b[38;5;241m.\u001b[39mhead(\u001b[38;5;241m10\u001b[39m)[[\u001b[38;5;124m'\u001b[39m\u001b[38;5;124mCustomerName\u001b[39m\u001b[38;5;124m'\u001b[39m, \u001b[38;5;124m'\u001b[39m\u001b[38;5;124mDaysSinceLastPurchase\u001b[39m\u001b[38;5;124m'\u001b[39m]]\n\u001b[0;32m     26\u001b[0m     \u001b[38;5;28;01mreturn\u001b[39;00m top_10\n\u001b[1;32m---> 30\u001b[0m top_10_results \u001b[38;5;241m=\u001b[39m \u001b[43mdays_since_last_purchase\u001b[49m\u001b[43m(\u001b[49m\u001b[43mdata\u001b[49m\u001b[43m)\u001b[49m\n\u001b[0;32m     31\u001b[0m \u001b[38;5;28mprint\u001b[39m(top_10_results)\n",
      "Cell \u001b[1;32mIn[15], line 22\u001b[0m, in \u001b[0;36mdays_since_last_purchase\u001b[1;34m(df)\u001b[0m\n\u001b[0;32m     18\u001b[0m data[\u001b[38;5;124m'\u001b[39m\u001b[38;5;124mDateColumn\u001b[39m\u001b[38;5;124m'\u001b[39m] \u001b[38;5;241m=\u001b[39m data[\u001b[38;5;124m'\u001b[39m\u001b[38;5;124mDateColumn\u001b[39m\u001b[38;5;124m'\u001b[39m]\u001b[38;5;241m.\u001b[39mdt\u001b[38;5;241m.\u001b[39mdate\n\u001b[0;32m     21\u001b[0m \u001b[38;5;66;03m# Calculate days since last purchase\u001b[39;00m\n\u001b[1;32m---> 22\u001b[0m df[\u001b[38;5;124m'\u001b[39m\u001b[38;5;124mDaysSinceLastPurchase\u001b[39m\u001b[38;5;124m'\u001b[39m] \u001b[38;5;241m=\u001b[39m \u001b[43m(\u001b[49m\u001b[43mtoday\u001b[49m\u001b[43m \u001b[49m\u001b[38;5;241;43m-\u001b[39;49m\u001b[43m \u001b[49m\u001b[43mdf\u001b[49m\u001b[43m[\u001b[49m\u001b[38;5;124;43m'\u001b[39;49m\u001b[38;5;124;43mDateColumn\u001b[39;49m\u001b[38;5;124;43m'\u001b[39;49m\u001b[43m]\u001b[49m\u001b[43m)\u001b[49m\u001b[38;5;241;43m.\u001b[39;49m\u001b[43mdt\u001b[49m\u001b[38;5;241m.\u001b[39mdays\n\u001b[0;32m     24\u001b[0m \u001b[38;5;66;03m# Select top 10 customers\u001b[39;00m\n\u001b[0;32m     25\u001b[0m top_10 \u001b[38;5;241m=\u001b[39m df\u001b[38;5;241m.\u001b[39msort_values(by\u001b[38;5;241m=\u001b[39m\u001b[38;5;124m'\u001b[39m\u001b[38;5;124mDaysSinceLastPurchase\u001b[39m\u001b[38;5;124m'\u001b[39m)\u001b[38;5;241m.\u001b[39mhead(\u001b[38;5;241m10\u001b[39m)[[\u001b[38;5;124m'\u001b[39m\u001b[38;5;124mCustomerName\u001b[39m\u001b[38;5;124m'\u001b[39m, \u001b[38;5;124m'\u001b[39m\u001b[38;5;124mDaysSinceLastPurchase\u001b[39m\u001b[38;5;124m'\u001b[39m]]\n",
      "File \u001b[1;32m~\\AppData\\Roaming\\Python\\Python312\\site-packages\\pandas\\core\\generic.py:6296\u001b[0m, in \u001b[0;36mNDFrame.__getattr__\u001b[1;34m(self, name)\u001b[0m\n\u001b[0;32m   6289\u001b[0m \u001b[38;5;28;01mif\u001b[39;00m (\n\u001b[0;32m   6290\u001b[0m     name \u001b[38;5;129;01mnot\u001b[39;00m \u001b[38;5;129;01min\u001b[39;00m \u001b[38;5;28mself\u001b[39m\u001b[38;5;241m.\u001b[39m_internal_names_set\n\u001b[0;32m   6291\u001b[0m     \u001b[38;5;129;01mand\u001b[39;00m name \u001b[38;5;129;01mnot\u001b[39;00m \u001b[38;5;129;01min\u001b[39;00m \u001b[38;5;28mself\u001b[39m\u001b[38;5;241m.\u001b[39m_metadata\n\u001b[0;32m   6292\u001b[0m     \u001b[38;5;129;01mand\u001b[39;00m name \u001b[38;5;129;01mnot\u001b[39;00m \u001b[38;5;129;01min\u001b[39;00m \u001b[38;5;28mself\u001b[39m\u001b[38;5;241m.\u001b[39m_accessors\n\u001b[0;32m   6293\u001b[0m     \u001b[38;5;129;01mand\u001b[39;00m \u001b[38;5;28mself\u001b[39m\u001b[38;5;241m.\u001b[39m_info_axis\u001b[38;5;241m.\u001b[39m_can_hold_identifiers_and_holds_name(name)\n\u001b[0;32m   6294\u001b[0m ):\n\u001b[0;32m   6295\u001b[0m     \u001b[38;5;28;01mreturn\u001b[39;00m \u001b[38;5;28mself\u001b[39m[name]\n\u001b[1;32m-> 6296\u001b[0m \u001b[38;5;28;01mreturn\u001b[39;00m \u001b[38;5;28;43mobject\u001b[39;49m\u001b[38;5;241;43m.\u001b[39;49m\u001b[38;5;21;43m__getattribute__\u001b[39;49m\u001b[43m(\u001b[49m\u001b[38;5;28;43mself\u001b[39;49m\u001b[43m,\u001b[49m\u001b[43m \u001b[49m\u001b[43mname\u001b[49m\u001b[43m)\u001b[49m\n",
      "File \u001b[1;32m~\\AppData\\Roaming\\Python\\Python312\\site-packages\\pandas\\core\\accessor.py:224\u001b[0m, in \u001b[0;36mCachedAccessor.__get__\u001b[1;34m(self, obj, cls)\u001b[0m\n\u001b[0;32m    221\u001b[0m \u001b[38;5;28;01mif\u001b[39;00m obj \u001b[38;5;129;01mis\u001b[39;00m \u001b[38;5;28;01mNone\u001b[39;00m:\n\u001b[0;32m    222\u001b[0m     \u001b[38;5;66;03m# we're accessing the attribute of the class, i.e., Dataset.geo\u001b[39;00m\n\u001b[0;32m    223\u001b[0m     \u001b[38;5;28;01mreturn\u001b[39;00m \u001b[38;5;28mself\u001b[39m\u001b[38;5;241m.\u001b[39m_accessor\n\u001b[1;32m--> 224\u001b[0m accessor_obj \u001b[38;5;241m=\u001b[39m \u001b[38;5;28;43mself\u001b[39;49m\u001b[38;5;241;43m.\u001b[39;49m\u001b[43m_accessor\u001b[49m\u001b[43m(\u001b[49m\u001b[43mobj\u001b[49m\u001b[43m)\u001b[49m\n\u001b[0;32m    225\u001b[0m \u001b[38;5;66;03m# Replace the property with the accessor object. Inspired by:\u001b[39;00m\n\u001b[0;32m    226\u001b[0m \u001b[38;5;66;03m# https://www.pydanny.com/cached-property.html\u001b[39;00m\n\u001b[0;32m    227\u001b[0m \u001b[38;5;66;03m# We need to use object.__setattr__ because we overwrite __setattr__ on\u001b[39;00m\n\u001b[0;32m    228\u001b[0m \u001b[38;5;66;03m# NDFrame\u001b[39;00m\n\u001b[0;32m    229\u001b[0m \u001b[38;5;28mobject\u001b[39m\u001b[38;5;241m.\u001b[39m\u001b[38;5;21m__setattr__\u001b[39m(obj, \u001b[38;5;28mself\u001b[39m\u001b[38;5;241m.\u001b[39m_name, accessor_obj)\n",
      "File \u001b[1;32m~\\AppData\\Roaming\\Python\\Python312\\site-packages\\pandas\\core\\indexes\\accessors.py:643\u001b[0m, in \u001b[0;36mCombinedDatetimelikeProperties.__new__\u001b[1;34m(cls, data)\u001b[0m\n\u001b[0;32m    640\u001b[0m \u001b[38;5;28;01melif\u001b[39;00m \u001b[38;5;28misinstance\u001b[39m(data\u001b[38;5;241m.\u001b[39mdtype, PeriodDtype):\n\u001b[0;32m    641\u001b[0m     \u001b[38;5;28;01mreturn\u001b[39;00m PeriodProperties(data, orig)\n\u001b[1;32m--> 643\u001b[0m \u001b[38;5;28;01mraise\u001b[39;00m \u001b[38;5;167;01mAttributeError\u001b[39;00m(\u001b[38;5;124m\"\u001b[39m\u001b[38;5;124mCan only use .dt accessor with datetimelike values\u001b[39m\u001b[38;5;124m\"\u001b[39m)\n",
      "\u001b[1;31mAttributeError\u001b[0m: Can only use .dt accessor with datetimelike values"
     ]
    }
   ],
   "source": [
    "\n",
    "\n",
    "\n",
    "\n",
    "def days_since_last_purchase(df):\n",
    "    \"\"\"\n",
    "    Calculates the number of days since the last purchase for each customer.\n",
    "\n",
    "    Args:\n",
    "        df (pd.DataFrame): A DataFrame containing customer data.\n",
    "            Columns: 'KYCInfo', 'TransTime' (in 'YYYY-MM-DD HH:MM:SS' format).\n",
    "\n",
    "    Returns:\n",
    "        list:  A list with  'KYCInfo which is customer name' and 'Number of days since they last used the service'.\n",
    "    \"\"\"\n",
    "    \n",
    "    today = pd.to_datetime('today').date()\n",
    "    \n",
    "    data['DateColumn'] = pd.to_datetime(data['TransTime'], errors='coerce')\n",
    "\n",
    "    data['DateColumn'] = data['DateColumn'].dt.date\n",
    "\n",
    "\n",
    "   \n",
    "    df['DaysSinceLastPurchase'] = (today - df['DateColumn']).dt.days\n",
    "\n",
    "    \n",
    "    top_10 = df.sort_values(by='DaysSinceLastPurchase').head(10)[['CustomerName', 'DaysSinceLastPurchase']]\n",
    "    return top_10\n",
    "\n",
    "\n",
    "\n",
    "top_10_results = days_since_last_purchase(data)\n",
    "print(top_10_results)\n",
    "\n",
    "\n",
    "\n",
    "\n"
   ]
  },
  {
   "cell_type": "code",
   "execution_count": 26,
   "metadata": {},
   "outputs": [],
   "source": [
    "%%capture\n",
    "dateTrans.rename(columns={'created_at':'date'},inplace=True)"
   ]
  },
  {
   "cell_type": "markdown",
   "metadata": {},
   "source": [
    "I want to visualize the trend of revenue from when they started operation to now"
   ]
  }
 ],
 "metadata": {
  "kernelspec": {
   "display_name": "Python 3",
   "language": "python",
   "name": "python3"
  },
  "language_info": {
   "codemirror_mode": {
    "name": "ipython",
    "version": 3
   },
   "file_extension": ".py",
   "mimetype": "text/x-python",
   "name": "python",
   "nbconvert_exporter": "python",
   "pygments_lexer": "ipython3",
   "version": "3.12.2"
  }
 },
 "nbformat": 4,
 "nbformat_minor": 2
}
